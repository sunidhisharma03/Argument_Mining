{
  "nbformat": 4,
  "nbformat_minor": 0,
  "metadata": {
    "colab": {
      "provenance": [],
      "gpuType": "T4"
    },
    "kernelspec": {
      "name": "python3",
      "display_name": "Python 3"
    },
    "language_info": {
      "name": "python"
    },
    "accelerator": "GPU",
    "widgets": {
      "application/vnd.jupyter.widget-state+json": {
        "334cbf8daad84899af99c3e722bf1474": {
          "model_module": "@jupyter-widgets/controls",
          "model_name": "HBoxModel",
          "model_module_version": "1.5.0",
          "state": {
            "_dom_classes": [],
            "_model_module": "@jupyter-widgets/controls",
            "_model_module_version": "1.5.0",
            "_model_name": "HBoxModel",
            "_view_count": null,
            "_view_module": "@jupyter-widgets/controls",
            "_view_module_version": "1.5.0",
            "_view_name": "HBoxView",
            "box_style": "",
            "children": [
              "IPY_MODEL_c2273ea71d1745149fb7798bc7c0f77a",
              "IPY_MODEL_d7d383214b3c424cb5c72b9d33d4ccd6",
              "IPY_MODEL_2d1d5825934f43b49a8a81895e187589"
            ],
            "layout": "IPY_MODEL_3e4d2ce18120445cad9a8f70539d1f62"
          }
        },
        "c2273ea71d1745149fb7798bc7c0f77a": {
          "model_module": "@jupyter-widgets/controls",
          "model_name": "HTMLModel",
          "model_module_version": "1.5.0",
          "state": {
            "_dom_classes": [],
            "_model_module": "@jupyter-widgets/controls",
            "_model_module_version": "1.5.0",
            "_model_name": "HTMLModel",
            "_view_count": null,
            "_view_module": "@jupyter-widgets/controls",
            "_view_module_version": "1.5.0",
            "_view_name": "HTMLView",
            "description": "",
            "description_tooltip": null,
            "layout": "IPY_MODEL_ee0bb290a8bb40199fca4dbf773aa4c2",
            "placeholder": "​",
            "style": "IPY_MODEL_517c9477a96e49b18ab4388c1ccdb4c9",
            "value": "Map: 100%"
          }
        },
        "d7d383214b3c424cb5c72b9d33d4ccd6": {
          "model_module": "@jupyter-widgets/controls",
          "model_name": "FloatProgressModel",
          "model_module_version": "1.5.0",
          "state": {
            "_dom_classes": [],
            "_model_module": "@jupyter-widgets/controls",
            "_model_module_version": "1.5.0",
            "_model_name": "FloatProgressModel",
            "_view_count": null,
            "_view_module": "@jupyter-widgets/controls",
            "_view_module_version": "1.5.0",
            "_view_name": "ProgressView",
            "bar_style": "success",
            "description": "",
            "description_tooltip": null,
            "layout": "IPY_MODEL_8e344e33f61242b6babe0fb75ba625a3",
            "max": 5381,
            "min": 0,
            "orientation": "horizontal",
            "style": "IPY_MODEL_e5d0b20dc40446e191755cbf03547eb1",
            "value": 5381
          }
        },
        "2d1d5825934f43b49a8a81895e187589": {
          "model_module": "@jupyter-widgets/controls",
          "model_name": "HTMLModel",
          "model_module_version": "1.5.0",
          "state": {
            "_dom_classes": [],
            "_model_module": "@jupyter-widgets/controls",
            "_model_module_version": "1.5.0",
            "_model_name": "HTMLModel",
            "_view_count": null,
            "_view_module": "@jupyter-widgets/controls",
            "_view_module_version": "1.5.0",
            "_view_name": "HTMLView",
            "description": "",
            "description_tooltip": null,
            "layout": "IPY_MODEL_4ff5e7655a874d2b84c8c349f4979eed",
            "placeholder": "​",
            "style": "IPY_MODEL_ddb38019488b45138ed4d90ee7eaadb3",
            "value": " 5381/5381 [00:03&lt;00:00, 1492.54 examples/s]"
          }
        },
        "3e4d2ce18120445cad9a8f70539d1f62": {
          "model_module": "@jupyter-widgets/base",
          "model_name": "LayoutModel",
          "model_module_version": "1.2.0",
          "state": {
            "_model_module": "@jupyter-widgets/base",
            "_model_module_version": "1.2.0",
            "_model_name": "LayoutModel",
            "_view_count": null,
            "_view_module": "@jupyter-widgets/base",
            "_view_module_version": "1.2.0",
            "_view_name": "LayoutView",
            "align_content": null,
            "align_items": null,
            "align_self": null,
            "border": null,
            "bottom": null,
            "display": null,
            "flex": null,
            "flex_flow": null,
            "grid_area": null,
            "grid_auto_columns": null,
            "grid_auto_flow": null,
            "grid_auto_rows": null,
            "grid_column": null,
            "grid_gap": null,
            "grid_row": null,
            "grid_template_areas": null,
            "grid_template_columns": null,
            "grid_template_rows": null,
            "height": null,
            "justify_content": null,
            "justify_items": null,
            "left": null,
            "margin": null,
            "max_height": null,
            "max_width": null,
            "min_height": null,
            "min_width": null,
            "object_fit": null,
            "object_position": null,
            "order": null,
            "overflow": null,
            "overflow_x": null,
            "overflow_y": null,
            "padding": null,
            "right": null,
            "top": null,
            "visibility": null,
            "width": null
          }
        },
        "ee0bb290a8bb40199fca4dbf773aa4c2": {
          "model_module": "@jupyter-widgets/base",
          "model_name": "LayoutModel",
          "model_module_version": "1.2.0",
          "state": {
            "_model_module": "@jupyter-widgets/base",
            "_model_module_version": "1.2.0",
            "_model_name": "LayoutModel",
            "_view_count": null,
            "_view_module": "@jupyter-widgets/base",
            "_view_module_version": "1.2.0",
            "_view_name": "LayoutView",
            "align_content": null,
            "align_items": null,
            "align_self": null,
            "border": null,
            "bottom": null,
            "display": null,
            "flex": null,
            "flex_flow": null,
            "grid_area": null,
            "grid_auto_columns": null,
            "grid_auto_flow": null,
            "grid_auto_rows": null,
            "grid_column": null,
            "grid_gap": null,
            "grid_row": null,
            "grid_template_areas": null,
            "grid_template_columns": null,
            "grid_template_rows": null,
            "height": null,
            "justify_content": null,
            "justify_items": null,
            "left": null,
            "margin": null,
            "max_height": null,
            "max_width": null,
            "min_height": null,
            "min_width": null,
            "object_fit": null,
            "object_position": null,
            "order": null,
            "overflow": null,
            "overflow_x": null,
            "overflow_y": null,
            "padding": null,
            "right": null,
            "top": null,
            "visibility": null,
            "width": null
          }
        },
        "517c9477a96e49b18ab4388c1ccdb4c9": {
          "model_module": "@jupyter-widgets/controls",
          "model_name": "DescriptionStyleModel",
          "model_module_version": "1.5.0",
          "state": {
            "_model_module": "@jupyter-widgets/controls",
            "_model_module_version": "1.5.0",
            "_model_name": "DescriptionStyleModel",
            "_view_count": null,
            "_view_module": "@jupyter-widgets/base",
            "_view_module_version": "1.2.0",
            "_view_name": "StyleView",
            "description_width": ""
          }
        },
        "8e344e33f61242b6babe0fb75ba625a3": {
          "model_module": "@jupyter-widgets/base",
          "model_name": "LayoutModel",
          "model_module_version": "1.2.0",
          "state": {
            "_model_module": "@jupyter-widgets/base",
            "_model_module_version": "1.2.0",
            "_model_name": "LayoutModel",
            "_view_count": null,
            "_view_module": "@jupyter-widgets/base",
            "_view_module_version": "1.2.0",
            "_view_name": "LayoutView",
            "align_content": null,
            "align_items": null,
            "align_self": null,
            "border": null,
            "bottom": null,
            "display": null,
            "flex": null,
            "flex_flow": null,
            "grid_area": null,
            "grid_auto_columns": null,
            "grid_auto_flow": null,
            "grid_auto_rows": null,
            "grid_column": null,
            "grid_gap": null,
            "grid_row": null,
            "grid_template_areas": null,
            "grid_template_columns": null,
            "grid_template_rows": null,
            "height": null,
            "justify_content": null,
            "justify_items": null,
            "left": null,
            "margin": null,
            "max_height": null,
            "max_width": null,
            "min_height": null,
            "min_width": null,
            "object_fit": null,
            "object_position": null,
            "order": null,
            "overflow": null,
            "overflow_x": null,
            "overflow_y": null,
            "padding": null,
            "right": null,
            "top": null,
            "visibility": null,
            "width": null
          }
        },
        "e5d0b20dc40446e191755cbf03547eb1": {
          "model_module": "@jupyter-widgets/controls",
          "model_name": "ProgressStyleModel",
          "model_module_version": "1.5.0",
          "state": {
            "_model_module": "@jupyter-widgets/controls",
            "_model_module_version": "1.5.0",
            "_model_name": "ProgressStyleModel",
            "_view_count": null,
            "_view_module": "@jupyter-widgets/base",
            "_view_module_version": "1.2.0",
            "_view_name": "StyleView",
            "bar_color": null,
            "description_width": ""
          }
        },
        "4ff5e7655a874d2b84c8c349f4979eed": {
          "model_module": "@jupyter-widgets/base",
          "model_name": "LayoutModel",
          "model_module_version": "1.2.0",
          "state": {
            "_model_module": "@jupyter-widgets/base",
            "_model_module_version": "1.2.0",
            "_model_name": "LayoutModel",
            "_view_count": null,
            "_view_module": "@jupyter-widgets/base",
            "_view_module_version": "1.2.0",
            "_view_name": "LayoutView",
            "align_content": null,
            "align_items": null,
            "align_self": null,
            "border": null,
            "bottom": null,
            "display": null,
            "flex": null,
            "flex_flow": null,
            "grid_area": null,
            "grid_auto_columns": null,
            "grid_auto_flow": null,
            "grid_auto_rows": null,
            "grid_column": null,
            "grid_gap": null,
            "grid_row": null,
            "grid_template_areas": null,
            "grid_template_columns": null,
            "grid_template_rows": null,
            "height": null,
            "justify_content": null,
            "justify_items": null,
            "left": null,
            "margin": null,
            "max_height": null,
            "max_width": null,
            "min_height": null,
            "min_width": null,
            "object_fit": null,
            "object_position": null,
            "order": null,
            "overflow": null,
            "overflow_x": null,
            "overflow_y": null,
            "padding": null,
            "right": null,
            "top": null,
            "visibility": null,
            "width": null
          }
        },
        "ddb38019488b45138ed4d90ee7eaadb3": {
          "model_module": "@jupyter-widgets/controls",
          "model_name": "DescriptionStyleModel",
          "model_module_version": "1.5.0",
          "state": {
            "_model_module": "@jupyter-widgets/controls",
            "_model_module_version": "1.5.0",
            "_model_name": "DescriptionStyleModel",
            "_view_count": null,
            "_view_module": "@jupyter-widgets/base",
            "_view_module_version": "1.2.0",
            "_view_name": "StyleView",
            "description_width": ""
          }
        }
      }
    }
  },
  "cells": [
    {
      "cell_type": "code",
      "execution_count": 1,
      "metadata": {
        "colab": {
          "base_uri": "https://localhost:8080/"
        },
        "id": "_ABiPQQxxZTw",
        "outputId": "be84f7ee-261c-4051-a132-8d7fe634bf03"
      },
      "outputs": [
        {
          "output_type": "stream",
          "name": "stdout",
          "text": [
            "Requirement already satisfied: transformers in /usr/local/lib/python3.11/dist-packages (4.52.4)\n",
            "Requirement already satisfied: datasets in /usr/local/lib/python3.11/dist-packages (2.14.4)\n",
            "Requirement already satisfied: filelock in /usr/local/lib/python3.11/dist-packages (from transformers) (3.18.0)\n",
            "Requirement already satisfied: huggingface-hub<1.0,>=0.30.0 in /usr/local/lib/python3.11/dist-packages (from transformers) (0.33.0)\n",
            "Requirement already satisfied: numpy>=1.17 in /usr/local/lib/python3.11/dist-packages (from transformers) (2.0.2)\n",
            "Requirement already satisfied: packaging>=20.0 in /usr/local/lib/python3.11/dist-packages (from transformers) (24.2)\n",
            "Requirement already satisfied: pyyaml>=5.1 in /usr/local/lib/python3.11/dist-packages (from transformers) (6.0.2)\n",
            "Requirement already satisfied: regex!=2019.12.17 in /usr/local/lib/python3.11/dist-packages (from transformers) (2024.11.6)\n",
            "Requirement already satisfied: requests in /usr/local/lib/python3.11/dist-packages (from transformers) (2.32.3)\n",
            "Requirement already satisfied: tokenizers<0.22,>=0.21 in /usr/local/lib/python3.11/dist-packages (from transformers) (0.21.1)\n",
            "Requirement already satisfied: safetensors>=0.4.3 in /usr/local/lib/python3.11/dist-packages (from transformers) (0.5.3)\n",
            "Requirement already satisfied: tqdm>=4.27 in /usr/local/lib/python3.11/dist-packages (from transformers) (4.67.1)\n",
            "Requirement already satisfied: pyarrow>=8.0.0 in /usr/local/lib/python3.11/dist-packages (from datasets) (18.1.0)\n",
            "Requirement already satisfied: dill<0.3.8,>=0.3.0 in /usr/local/lib/python3.11/dist-packages (from datasets) (0.3.7)\n",
            "Requirement already satisfied: pandas in /usr/local/lib/python3.11/dist-packages (from datasets) (2.2.2)\n",
            "Requirement already satisfied: xxhash in /usr/local/lib/python3.11/dist-packages (from datasets) (3.5.0)\n",
            "Requirement already satisfied: multiprocess in /usr/local/lib/python3.11/dist-packages (from datasets) (0.70.15)\n",
            "Requirement already satisfied: fsspec>=2021.11.1 in /usr/local/lib/python3.11/dist-packages (from fsspec[http]>=2021.11.1->datasets) (2025.3.2)\n",
            "Requirement already satisfied: aiohttp in /usr/local/lib/python3.11/dist-packages (from datasets) (3.11.15)\n",
            "Requirement already satisfied: aiohappyeyeballs>=2.3.0 in /usr/local/lib/python3.11/dist-packages (from aiohttp->datasets) (2.6.1)\n",
            "Requirement already satisfied: aiosignal>=1.1.2 in /usr/local/lib/python3.11/dist-packages (from aiohttp->datasets) (1.3.2)\n",
            "Requirement already satisfied: attrs>=17.3.0 in /usr/local/lib/python3.11/dist-packages (from aiohttp->datasets) (25.3.0)\n",
            "Requirement already satisfied: frozenlist>=1.1.1 in /usr/local/lib/python3.11/dist-packages (from aiohttp->datasets) (1.7.0)\n",
            "Requirement already satisfied: multidict<7.0,>=4.5 in /usr/local/lib/python3.11/dist-packages (from aiohttp->datasets) (6.4.4)\n",
            "Requirement already satisfied: propcache>=0.2.0 in /usr/local/lib/python3.11/dist-packages (from aiohttp->datasets) (0.3.2)\n",
            "Requirement already satisfied: yarl<2.0,>=1.17.0 in /usr/local/lib/python3.11/dist-packages (from aiohttp->datasets) (1.20.1)\n",
            "Requirement already satisfied: typing-extensions>=3.7.4.3 in /usr/local/lib/python3.11/dist-packages (from huggingface-hub<1.0,>=0.30.0->transformers) (4.14.0)\n",
            "Requirement already satisfied: hf-xet<2.0.0,>=1.1.2 in /usr/local/lib/python3.11/dist-packages (from huggingface-hub<1.0,>=0.30.0->transformers) (1.1.3)\n",
            "Requirement already satisfied: charset-normalizer<4,>=2 in /usr/local/lib/python3.11/dist-packages (from requests->transformers) (3.4.2)\n",
            "Requirement already satisfied: idna<4,>=2.5 in /usr/local/lib/python3.11/dist-packages (from requests->transformers) (3.10)\n",
            "Requirement already satisfied: urllib3<3,>=1.21.1 in /usr/local/lib/python3.11/dist-packages (from requests->transformers) (2.4.0)\n",
            "Requirement already satisfied: certifi>=2017.4.17 in /usr/local/lib/python3.11/dist-packages (from requests->transformers) (2025.6.15)\n",
            "Requirement already satisfied: python-dateutil>=2.8.2 in /usr/local/lib/python3.11/dist-packages (from pandas->datasets) (2.9.0.post0)\n",
            "Requirement already satisfied: pytz>=2020.1 in /usr/local/lib/python3.11/dist-packages (from pandas->datasets) (2025.2)\n",
            "Requirement already satisfied: tzdata>=2022.7 in /usr/local/lib/python3.11/dist-packages (from pandas->datasets) (2025.2)\n",
            "Requirement already satisfied: six>=1.5 in /usr/local/lib/python3.11/dist-packages (from python-dateutil>=2.8.2->pandas->datasets) (1.17.0)\n"
          ]
        }
      ],
      "source": [
        "!pip install transformers datasets"
      ]
    },
    {
      "cell_type": "code",
      "source": [
        "from google.colab import files\n",
        "uploaded = files.upload()"
      ],
      "metadata": {
        "colab": {
          "base_uri": "https://localhost:8080/",
          "height": 74
        },
        "id": "Ix4gjNK2xwgp",
        "outputId": "65c8f213-ef0f-4de9-ec22-e91d8bc2542d"
      },
      "execution_count": 3,
      "outputs": [
        {
          "output_type": "display_data",
          "data": {
            "text/plain": [
              "<IPython.core.display.HTML object>"
            ],
            "text/html": [
              "\n",
              "     <input type=\"file\" id=\"files-2086cb74-e4a5-4862-8ad1-560eaa5eb99d\" name=\"files[]\" multiple disabled\n",
              "        style=\"border:none\" />\n",
              "     <output id=\"result-2086cb74-e4a5-4862-8ad1-560eaa5eb99d\">\n",
              "      Upload widget is only available when the cell has been executed in the\n",
              "      current browser session. Please rerun this cell to enable.\n",
              "      </output>\n",
              "      <script>// Copyright 2017 Google LLC\n",
              "//\n",
              "// Licensed under the Apache License, Version 2.0 (the \"License\");\n",
              "// you may not use this file except in compliance with the License.\n",
              "// You may obtain a copy of the License at\n",
              "//\n",
              "//      http://www.apache.org/licenses/LICENSE-2.0\n",
              "//\n",
              "// Unless required by applicable law or agreed to in writing, software\n",
              "// distributed under the License is distributed on an \"AS IS\" BASIS,\n",
              "// WITHOUT WARRANTIES OR CONDITIONS OF ANY KIND, either express or implied.\n",
              "// See the License for the specific language governing permissions and\n",
              "// limitations under the License.\n",
              "\n",
              "/**\n",
              " * @fileoverview Helpers for google.colab Python module.\n",
              " */\n",
              "(function(scope) {\n",
              "function span(text, styleAttributes = {}) {\n",
              "  const element = document.createElement('span');\n",
              "  element.textContent = text;\n",
              "  for (const key of Object.keys(styleAttributes)) {\n",
              "    element.style[key] = styleAttributes[key];\n",
              "  }\n",
              "  return element;\n",
              "}\n",
              "\n",
              "// Max number of bytes which will be uploaded at a time.\n",
              "const MAX_PAYLOAD_SIZE = 100 * 1024;\n",
              "\n",
              "function _uploadFiles(inputId, outputId) {\n",
              "  const steps = uploadFilesStep(inputId, outputId);\n",
              "  const outputElement = document.getElementById(outputId);\n",
              "  // Cache steps on the outputElement to make it available for the next call\n",
              "  // to uploadFilesContinue from Python.\n",
              "  outputElement.steps = steps;\n",
              "\n",
              "  return _uploadFilesContinue(outputId);\n",
              "}\n",
              "\n",
              "// This is roughly an async generator (not supported in the browser yet),\n",
              "// where there are multiple asynchronous steps and the Python side is going\n",
              "// to poll for completion of each step.\n",
              "// This uses a Promise to block the python side on completion of each step,\n",
              "// then passes the result of the previous step as the input to the next step.\n",
              "function _uploadFilesContinue(outputId) {\n",
              "  const outputElement = document.getElementById(outputId);\n",
              "  const steps = outputElement.steps;\n",
              "\n",
              "  const next = steps.next(outputElement.lastPromiseValue);\n",
              "  return Promise.resolve(next.value.promise).then((value) => {\n",
              "    // Cache the last promise value to make it available to the next\n",
              "    // step of the generator.\n",
              "    outputElement.lastPromiseValue = value;\n",
              "    return next.value.response;\n",
              "  });\n",
              "}\n",
              "\n",
              "/**\n",
              " * Generator function which is called between each async step of the upload\n",
              " * process.\n",
              " * @param {string} inputId Element ID of the input file picker element.\n",
              " * @param {string} outputId Element ID of the output display.\n",
              " * @return {!Iterable<!Object>} Iterable of next steps.\n",
              " */\n",
              "function* uploadFilesStep(inputId, outputId) {\n",
              "  const inputElement = document.getElementById(inputId);\n",
              "  inputElement.disabled = false;\n",
              "\n",
              "  const outputElement = document.getElementById(outputId);\n",
              "  outputElement.innerHTML = '';\n",
              "\n",
              "  const pickedPromise = new Promise((resolve) => {\n",
              "    inputElement.addEventListener('change', (e) => {\n",
              "      resolve(e.target.files);\n",
              "    });\n",
              "  });\n",
              "\n",
              "  const cancel = document.createElement('button');\n",
              "  inputElement.parentElement.appendChild(cancel);\n",
              "  cancel.textContent = 'Cancel upload';\n",
              "  const cancelPromise = new Promise((resolve) => {\n",
              "    cancel.onclick = () => {\n",
              "      resolve(null);\n",
              "    };\n",
              "  });\n",
              "\n",
              "  // Wait for the user to pick the files.\n",
              "  const files = yield {\n",
              "    promise: Promise.race([pickedPromise, cancelPromise]),\n",
              "    response: {\n",
              "      action: 'starting',\n",
              "    }\n",
              "  };\n",
              "\n",
              "  cancel.remove();\n",
              "\n",
              "  // Disable the input element since further picks are not allowed.\n",
              "  inputElement.disabled = true;\n",
              "\n",
              "  if (!files) {\n",
              "    return {\n",
              "      response: {\n",
              "        action: 'complete',\n",
              "      }\n",
              "    };\n",
              "  }\n",
              "\n",
              "  for (const file of files) {\n",
              "    const li = document.createElement('li');\n",
              "    li.append(span(file.name, {fontWeight: 'bold'}));\n",
              "    li.append(span(\n",
              "        `(${file.type || 'n/a'}) - ${file.size} bytes, ` +\n",
              "        `last modified: ${\n",
              "            file.lastModifiedDate ? file.lastModifiedDate.toLocaleDateString() :\n",
              "                                    'n/a'} - `));\n",
              "    const percent = span('0% done');\n",
              "    li.appendChild(percent);\n",
              "\n",
              "    outputElement.appendChild(li);\n",
              "\n",
              "    const fileDataPromise = new Promise((resolve) => {\n",
              "      const reader = new FileReader();\n",
              "      reader.onload = (e) => {\n",
              "        resolve(e.target.result);\n",
              "      };\n",
              "      reader.readAsArrayBuffer(file);\n",
              "    });\n",
              "    // Wait for the data to be ready.\n",
              "    let fileData = yield {\n",
              "      promise: fileDataPromise,\n",
              "      response: {\n",
              "        action: 'continue',\n",
              "      }\n",
              "    };\n",
              "\n",
              "    // Use a chunked sending to avoid message size limits. See b/62115660.\n",
              "    let position = 0;\n",
              "    do {\n",
              "      const length = Math.min(fileData.byteLength - position, MAX_PAYLOAD_SIZE);\n",
              "      const chunk = new Uint8Array(fileData, position, length);\n",
              "      position += length;\n",
              "\n",
              "      const base64 = btoa(String.fromCharCode.apply(null, chunk));\n",
              "      yield {\n",
              "        response: {\n",
              "          action: 'append',\n",
              "          file: file.name,\n",
              "          data: base64,\n",
              "        },\n",
              "      };\n",
              "\n",
              "      let percentDone = fileData.byteLength === 0 ?\n",
              "          100 :\n",
              "          Math.round((position / fileData.byteLength) * 100);\n",
              "      percent.textContent = `${percentDone}% done`;\n",
              "\n",
              "    } while (position < fileData.byteLength);\n",
              "  }\n",
              "\n",
              "  // All done.\n",
              "  yield {\n",
              "    response: {\n",
              "      action: 'complete',\n",
              "    }\n",
              "  };\n",
              "}\n",
              "\n",
              "scope.google = scope.google || {};\n",
              "scope.google.colab = scope.google.colab || {};\n",
              "scope.google.colab._files = {\n",
              "  _uploadFiles,\n",
              "  _uploadFilesContinue,\n",
              "};\n",
              "})(self);\n",
              "</script> "
            ]
          },
          "metadata": {}
        },
        {
          "output_type": "stream",
          "name": "stdout",
          "text": [
            "Saving ECHR_Corpus.json to ECHR_Corpus.json\n"
          ]
        }
      ]
    },
    {
      "cell_type": "code",
      "source": [
        "import random\n",
        "\n",
        "def load_3class_examples(json_path, negative_ratio=1.0):\n",
        "    with open(json_path, \"r\", encoding=\"utf-8\") as f:\n",
        "        documents = json.load(f)  # list of dicts\n",
        "\n",
        "    examples = []\n",
        "\n",
        "    for doc in documents:\n",
        "        text = doc[\"text\"]\n",
        "        clause_map = {c[\"_id\"]: text[c[\"start\"]:c[\"end\"]].strip() for c in doc[\"clauses\"]}\n",
        "\n",
        "        # Track which clause IDs are used as premises or conclusions\n",
        "        premises_ids = set()\n",
        "        conclusions_ids = set()\n",
        "        for arg in doc[\"arguments\"]:\n",
        "            conclusions_ids.add(arg[\"conclusion\"])\n",
        "            premises_ids.update(arg[\"premises\"])\n",
        "\n",
        "        # Add premises labeled 1\n",
        "        for pid in premises_ids:\n",
        "            clause_text = clause_map.get(pid, \"\")\n",
        "            if clause_text:\n",
        "                examples.append({\"text\": clause_text, \"label\": 1})  # Premise\n",
        "\n",
        "        # Add conclusions labeled 2\n",
        "        for cid in conclusions_ids:\n",
        "            clause_text = clause_map.get(cid, \"\")\n",
        "            if clause_text:\n",
        "                examples.append({\"text\": clause_text, \"label\": 2})  # Conclusion\n",
        "\n",
        "        # Add negative (non-argument) samples labeled 0\n",
        "        all_ids = set(clause_map.keys())\n",
        "        non_argument_ids = list(all_ids - premises_ids - conclusions_ids)\n",
        "\n",
        "        # Sample negative examples up to negative_ratio * number_of_positive_examples\n",
        "        num_negatives = int(negative_ratio * (len(premises_ids) + len(conclusions_ids)))\n",
        "        sampled_negatives = random.sample(non_argument_ids, min(num_negatives, len(non_argument_ids)))\n",
        "\n",
        "        for nid in sampled_negatives:\n",
        "            clause_text = clause_map.get(nid, \"\")\n",
        "            if clause_text:\n",
        "                examples.append({\"text\": clause_text, \"label\": 0})  # Non-Argument\n",
        "\n",
        "    random.shuffle(examples)\n",
        "    return examples\n"
      ],
      "metadata": {
        "id": "xG8-0T7gx4xO"
      },
      "execution_count": 27,
      "outputs": []
    },
    {
      "cell_type": "code",
      "source": [
        "# Load examples from JSON file\n",
        "examples = load_3class_examples(\"ECHR_Corpus.json\", negative_ratio=1.0)\n",
        "\n",
        "# Print how many examples loaded\n",
        "print(f\"Loaded {len(examples)} examples\")\n",
        "\n",
        "# Display first 5 examples\n",
        "for i, example in enumerate(examples[:5]):\n",
        "    print(f\"Example {i+1}\")\n",
        "    print(f\"Text : {example['text']}\")\n",
        "    print(f\"Label: {example['label']}\")\n",
        "    print(\"---\")\n"
      ],
      "metadata": {
        "colab": {
          "base_uri": "https://localhost:8080/"
        },
        "id": "xOW3A7U_yJr4",
        "outputId": "701d995f-72c4-4adf-9d47-8924ef5d3f2f"
      },
      "execution_count": 29,
      "outputs": [
        {
          "output_type": "stream",
          "name": "stdout",
          "text": [
            "Loaded 5381 examples\n",
            "Example 1\n",
            "Text : On the other hand, insofar as the facts complained of relate to\r\n",
            "the period after 7 September 1992, the application cannot be declared\r\n",
            "inadmissible as being incompatible ratione temporis with the provisions\r\n",
            "of the Convention.\n",
            "Label: 1\n",
            "---\n",
            "Example 2\n",
            "Text : He did not avail himself of this\r\n",
            "possibility.\n",
            "Label: 0\n",
            "---\n",
            "Example 3\n",
            "Text : The Court is of the view that, in a situation such as that of the applicant, where a substantial term of imprisonment may be at stake and where characteristics pertaining to his personality and level of maturity are of importance in deciding on his dangerousness, Article 5 para. 4 (art. 5-4) requires an oral hearing in the context of an adversarial procedure involving legal representation and the possibility of calling and questioning witnesses.\n",
            "Label: 1\n",
            "---\n",
            "Example 4\n",
            "Text : In a letter of 18 November 1992 to the Prosecutor-General the applicant, referring to Article 180 of the Code of Criminal Procedure, complained about the prosecutor’s failure to reply to his requests in writing.\n",
            "Label: 0\n",
            "---\n",
            "Example 5\n",
            "Text : Was it \"necessary in a democratic society\" to refuse the applicant’s seven-year-old son Ersin authorisation to come and live in Switzerland with his parents?  In other words, did that decision of the Swiss authorities strike a fair balance between the competing interests of the applicant, his wife and their son on the one hand and those of the community as a whole on the other?\n",
            "Label: 0\n",
            "---\n"
          ]
        }
      ]
    },
    {
      "cell_type": "code",
      "source": [
        "from datasets import Dataset\n",
        "from transformers import AutoTokenizer\n",
        "\n",
        "model_name = \"nlpaueb/legal-bert-base-uncased\"\n",
        "tokenizer = AutoTokenizer.from_pretrained(model_name)\n",
        "\n",
        "# Convert list of dicts to HuggingFace Dataset\n",
        "dataset = Dataset.from_list(examples)\n",
        "\n",
        "def tokenize_fn(example):\n",
        "    return tokenizer(example[\"text\"], truncation=True, padding=\"max_length\", max_length=256)\n",
        "\n",
        "tokenized_dataset = dataset.map(tokenize_fn, batched=True)\n"
      ],
      "metadata": {
        "colab": {
          "base_uri": "https://localhost:8080/",
          "height": 49,
          "referenced_widgets": [
            "334cbf8daad84899af99c3e722bf1474",
            "c2273ea71d1745149fb7798bc7c0f77a",
            "d7d383214b3c424cb5c72b9d33d4ccd6",
            "2d1d5825934f43b49a8a81895e187589",
            "3e4d2ce18120445cad9a8f70539d1f62",
            "ee0bb290a8bb40199fca4dbf773aa4c2",
            "517c9477a96e49b18ab4388c1ccdb4c9",
            "8e344e33f61242b6babe0fb75ba625a3",
            "e5d0b20dc40446e191755cbf03547eb1",
            "4ff5e7655a874d2b84c8c349f4979eed",
            "ddb38019488b45138ed4d90ee7eaadb3"
          ]
        },
        "id": "-aVLBx_eyYix",
        "outputId": "010e0396-f377-4bac-a51d-d1818f14c9de"
      },
      "execution_count": 30,
      "outputs": [
        {
          "output_type": "display_data",
          "data": {
            "text/plain": [
              "Map:   0%|          | 0/5381 [00:00<?, ? examples/s]"
            ],
            "application/vnd.jupyter.widget-view+json": {
              "version_major": 2,
              "version_minor": 0,
              "model_id": "334cbf8daad84899af99c3e722bf1474"
            }
          },
          "metadata": {}
        }
      ]
    },
    {
      "cell_type": "code",
      "source": [
        "# 80/20 train-validation split\n",
        "#split_dataset = tokenized_dataset.train_test_split(test_size=0.2, seed=42)\n",
        "#train_dataset = split_dataset['train']\n",
        "#eval_dataset = split_dataset['test']"
      ],
      "metadata": {
        "id": "8O3TCWQ82dQZ"
      },
      "execution_count": 11,
      "outputs": []
    },
    {
      "cell_type": "code",
      "source": [
        "split = tokenized_dataset.train_test_split(test_size=0.2, seed=42)\n",
        "train_dataset = split[\"train\"]\n",
        "test_dataset = split[\"test\"]"
      ],
      "metadata": {
        "id": "UhHd-mRP3d4X"
      },
      "execution_count": 31,
      "outputs": []
    },
    {
      "cell_type": "code",
      "source": [
        "import numpy as np\n",
        "from sklearn.metrics import accuracy_score, precision_recall_fscore_support\n",
        "\n",
        "label_map = {0: \"Non-Argument\", 1: \"Premise\", 2: \"Conclusion\"}\n",
        "\n",
        "def compute_metrics(pred):\n",
        "    preds = np.argmax(pred.predictions, axis=1)\n",
        "    labels = pred.label_ids\n",
        "    precision, recall, f1, _ = precision_recall_fscore_support(labels, preds, average='weighted')\n",
        "    acc = accuracy_score(labels, preds)\n",
        "    return {\n",
        "        \"accuracy\": acc,\n",
        "        \"precision\": precision,\n",
        "        \"recall\": recall,\n",
        "        \"f1\": f1\n",
        "    }"
      ],
      "metadata": {
        "id": "GsujnQPX3fWG"
      },
      "execution_count": 32,
      "outputs": []
    },
    {
      "cell_type": "code",
      "source": [
        "!pip install --upgrade transformers"
      ],
      "metadata": {
        "colab": {
          "base_uri": "https://localhost:8080/"
        },
        "id": "Hh3NJ_pH9iq1",
        "outputId": "8d66d1d5-995b-4f7a-c28a-f1300783e302"
      },
      "execution_count": 34,
      "outputs": [
        {
          "output_type": "stream",
          "name": "stdout",
          "text": [
            "Requirement already satisfied: transformers in /usr/local/lib/python3.11/dist-packages (4.52.4)\n",
            "Requirement already satisfied: filelock in /usr/local/lib/python3.11/dist-packages (from transformers) (3.18.0)\n",
            "Requirement already satisfied: huggingface-hub<1.0,>=0.30.0 in /usr/local/lib/python3.11/dist-packages (from transformers) (0.33.0)\n",
            "Requirement already satisfied: numpy>=1.17 in /usr/local/lib/python3.11/dist-packages (from transformers) (2.0.2)\n",
            "Requirement already satisfied: packaging>=20.0 in /usr/local/lib/python3.11/dist-packages (from transformers) (24.2)\n",
            "Requirement already satisfied: pyyaml>=5.1 in /usr/local/lib/python3.11/dist-packages (from transformers) (6.0.2)\n",
            "Requirement already satisfied: regex!=2019.12.17 in /usr/local/lib/python3.11/dist-packages (from transformers) (2024.11.6)\n",
            "Requirement already satisfied: requests in /usr/local/lib/python3.11/dist-packages (from transformers) (2.32.3)\n",
            "Requirement already satisfied: tokenizers<0.22,>=0.21 in /usr/local/lib/python3.11/dist-packages (from transformers) (0.21.1)\n",
            "Requirement already satisfied: safetensors>=0.4.3 in /usr/local/lib/python3.11/dist-packages (from transformers) (0.5.3)\n",
            "Requirement already satisfied: tqdm>=4.27 in /usr/local/lib/python3.11/dist-packages (from transformers) (4.67.1)\n",
            "Requirement already satisfied: fsspec>=2023.5.0 in /usr/local/lib/python3.11/dist-packages (from huggingface-hub<1.0,>=0.30.0->transformers) (2025.3.2)\n",
            "Requirement already satisfied: typing-extensions>=3.7.4.3 in /usr/local/lib/python3.11/dist-packages (from huggingface-hub<1.0,>=0.30.0->transformers) (4.14.0)\n",
            "Requirement already satisfied: hf-xet<2.0.0,>=1.1.2 in /usr/local/lib/python3.11/dist-packages (from huggingface-hub<1.0,>=0.30.0->transformers) (1.1.3)\n",
            "Requirement already satisfied: charset-normalizer<4,>=2 in /usr/local/lib/python3.11/dist-packages (from requests->transformers) (3.4.2)\n",
            "Requirement already satisfied: idna<4,>=2.5 in /usr/local/lib/python3.11/dist-packages (from requests->transformers) (3.10)\n",
            "Requirement already satisfied: urllib3<3,>=1.21.1 in /usr/local/lib/python3.11/dist-packages (from requests->transformers) (2.4.0)\n",
            "Requirement already satisfied: certifi>=2017.4.17 in /usr/local/lib/python3.11/dist-packages (from requests->transformers) (2025.6.15)\n"
          ]
        }
      ]
    },
    {
      "cell_type": "code",
      "source": [
        "from transformers import (\n",
        "    AutoModelForSequenceClassification,\n",
        "    TrainingArguments,\n",
        "    Trainer,\n",
        "    DataCollatorWithPadding\n",
        ")\n",
        "import torch\n",
        "\n",
        "# Set device\n",
        "device = torch.device(\"cuda\" if torch.cuda.is_available() else \"cpu\")\n",
        "print(f\"Using device: {device}\")\n",
        "\n",
        "# Load the model for sequence classification (3 classes)\n",
        "model = AutoModelForSequenceClassification.from_pretrained(\n",
        "    model_name,\n",
        "    num_labels=3,  # Non-Argument, Premise, Conclusion\n",
        "    id2label={0: \"Non-Argument\", 1: \"Premise\", 2: \"Conclusion\"},\n",
        "    label2id={\"Non-Argument\": 0, \"Premise\": 1, \"Conclusion\": 2}\n",
        ")"
      ],
      "metadata": {
        "colab": {
          "base_uri": "https://localhost:8080/"
        },
        "id": "tWi5Yhbl9luY",
        "outputId": "06052cc6-e7fb-4a79-f16a-e6ea0f8362be"
      },
      "execution_count": 41,
      "outputs": [
        {
          "output_type": "stream",
          "name": "stdout",
          "text": [
            "Using device: cuda\n"
          ]
        },
        {
          "output_type": "stream",
          "name": "stderr",
          "text": [
            "Some weights of BertForSequenceClassification were not initialized from the model checkpoint at nlpaueb/legal-bert-base-uncased and are newly initialized: ['classifier.bias', 'classifier.weight']\n",
            "You should probably TRAIN this model on a down-stream task to be able to use it for predictions and inference.\n"
          ]
        }
      ]
    },
    {
      "cell_type": "code",
      "source": [
        "training_args = TrainingArguments(\n",
        "    output_dir=\"./legal-bert-argument-classifier\",\n",
        "    num_train_epochs=3,\n",
        "    per_device_train_batch_size=16,\n",
        "    per_device_eval_batch_size=32,\n",
        "    warmup_steps=500,\n",
        "    weight_decay=0.01,\n",
        "    logging_dir=\"./logs\",\n",
        "    logging_steps=100,\n",
        "    eval_strategy=\"steps\",  # Changed from evaluation_strategy\n",
        "    eval_steps=500,\n",
        "    save_strategy=\"steps\",\n",
        "    save_steps=500,\n",
        "    load_best_model_at_end=True,\n",
        "    metric_for_best_model=\"f1\",\n",
        "    greater_is_better=True,\n",
        "    seed=42,\n",
        "    # Remove fp16 and report_to for older versions compatibility\n",
        ")"
      ],
      "metadata": {
        "id": "iIzfInm-3ijD"
      },
      "execution_count": 43,
      "outputs": []
    },
    {
      "cell_type": "code",
      "source": [
        "trainer = Trainer(\n",
        "    model=model,\n",
        "    args=training_args,\n",
        "    train_dataset=train_dataset,\n",
        "    eval_dataset=test_dataset,\n",
        "    processing_class=tokenizer,  # Updated from 'tokenizer' to avoid deprecation warning\n",
        "    data_collator=data_collator,\n",
        "    compute_metrics=compute_metrics,\n",
        ")\n",
        "\n",
        "# Print dataset info\n",
        "print(f\"Training samples: {len(train_dataset)}\")\n",
        "print(f\"Test samples: {len(test_dataset)}\")\n",
        "\n",
        "# Check label distribution\n",
        "train_labels = train_dataset[\"label\"]\n",
        "test_labels = test_dataset[\"label\"]\n"
      ],
      "metadata": {
        "colab": {
          "base_uri": "https://localhost:8080/"
        },
        "id": "iVAmayiV3MIr",
        "outputId": "748c53e2-77c9-4905-da47-e4845ba9820f"
      },
      "execution_count": 45,
      "outputs": [
        {
          "output_type": "stream",
          "name": "stdout",
          "text": [
            "Training samples: 4304\n",
            "Test samples: 1077\n"
          ]
        }
      ]
    },
    {
      "cell_type": "code",
      "source": [
        "from collections import Counter\n",
        "train_dist = Counter(train_labels)\n",
        "test_dist = Counter(test_labels)\n",
        "\n",
        "print(\"\\nLabel distribution in training set:\")\n",
        "for label, count in train_dist.items():\n",
        "    print(f\"  {label_map[label]}: {count} ({count/len(train_labels)*100:.1f}%)\")\n",
        "\n",
        "print(\"\\nLabel distribution in test set:\")\n",
        "for label, count in test_dist.items():\n",
        "    print(f\"  {label_map[label]}: {count} ({count/len(test_labels)*100:.1f}%)\")\n",
        "\n",
        "# Start training\n",
        "print(\"\\nStarting training...\")\n",
        "trainer.train()\n",
        "\n",
        "# Evaluate on test set\n",
        "print(\"\\nEvaluating on test set...\")\n",
        "eval_results = trainer.evaluate()\n",
        "\n",
        "print(\"\\nFinal Results:\")\n",
        "for key, value in eval_results.items():\n",
        "    print(f\"  {key}: {value:.4f}\")"
      ],
      "metadata": {
        "colab": {
          "base_uri": "https://localhost:8080/",
          "height": 573
        },
        "id": "wx5uiffI5rNc",
        "outputId": "33b7ee45-11ca-4c6b-bc24-2418d27baee1"
      },
      "execution_count": 46,
      "outputs": [
        {
          "output_type": "stream",
          "name": "stdout",
          "text": [
            "\n",
            "Label distribution in training set:\n",
            "  Conclusion: 586 (13.6%)\n",
            "  Non-Argument: 2158 (50.1%)\n",
            "  Premise: 1560 (36.2%)\n",
            "\n",
            "Label distribution in test set:\n",
            "  Premise: 391 (36.3%)\n",
            "  Non-Argument: 529 (49.1%)\n",
            "  Conclusion: 157 (14.6%)\n",
            "\n",
            "Starting training...\n"
          ]
        },
        {
          "output_type": "display_data",
          "data": {
            "text/plain": [
              "<IPython.core.display.HTML object>"
            ],
            "text/html": [
              "\n",
              "    <div>\n",
              "      \n",
              "      <progress value='807' max='807' style='width:300px; height:20px; vertical-align: middle;'></progress>\n",
              "      [807/807 11:04, Epoch 3/3]\n",
              "    </div>\n",
              "    <table border=\"1\" class=\"dataframe\">\n",
              "  <thead>\n",
              " <tr style=\"text-align: left;\">\n",
              "      <th>Step</th>\n",
              "      <th>Training Loss</th>\n",
              "      <th>Validation Loss</th>\n",
              "      <th>Accuracy</th>\n",
              "      <th>Precision</th>\n",
              "      <th>Recall</th>\n",
              "      <th>F1</th>\n",
              "    </tr>\n",
              "  </thead>\n",
              "  <tbody>\n",
              "    <tr>\n",
              "      <td>500</td>\n",
              "      <td>0.650800</td>\n",
              "      <td>0.678068</td>\n",
              "      <td>0.702878</td>\n",
              "      <td>0.742600</td>\n",
              "      <td>0.702878</td>\n",
              "      <td>0.710129</td>\n",
              "    </tr>\n",
              "  </tbody>\n",
              "</table><p>"
            ]
          },
          "metadata": {}
        },
        {
          "output_type": "stream",
          "name": "stdout",
          "text": [
            "\n",
            "Evaluating on test set...\n"
          ]
        },
        {
          "output_type": "display_data",
          "data": {
            "text/plain": [
              "<IPython.core.display.HTML object>"
            ],
            "text/html": [
              "\n",
              "    <div>\n",
              "      \n",
              "      <progress value='34' max='34' style='width:300px; height:20px; vertical-align: middle;'></progress>\n",
              "      [34/34 00:15]\n",
              "    </div>\n",
              "    "
            ]
          },
          "metadata": {}
        },
        {
          "output_type": "stream",
          "name": "stdout",
          "text": [
            "\n",
            "Final Results:\n",
            "  eval_loss: 0.6781\n",
            "  eval_accuracy: 0.7029\n",
            "  eval_precision: 0.7426\n",
            "  eval_recall: 0.7029\n",
            "  eval_f1: 0.7101\n",
            "  eval_runtime: 15.7133\n",
            "  eval_samples_per_second: 68.5410\n",
            "  eval_steps_per_second: 2.1640\n",
            "  epoch: 3.0000\n"
          ]
        }
      ]
    },
    {
      "cell_type": "code",
      "source": [
        "model.save_pretrained(\"./legal-bert-argument-classifier\")\n",
        "tokenizer.save_pretrained(\"./legal-bert-argument-classifier\")\n",
        "print(\"\\nModel and tokenizer saved to ./legal-bert-argument-classifier\")"
      ],
      "metadata": {
        "colab": {
          "base_uri": "https://localhost:8080/"
        },
        "id": "4pwq0juf6Hm8",
        "outputId": "f5dbfa1e-6edf-4a37-e4b5-9996afac6c37"
      },
      "execution_count": 47,
      "outputs": [
        {
          "output_type": "stream",
          "name": "stdout",
          "text": [
            "\n",
            "Model and tokenizer saved to ./legal-bert-argument-classifier\n"
          ]
        }
      ]
    },
    {
      "cell_type": "code",
      "source": [
        "predictions = trainer.predict(test_dataset)\n",
        "y_pred = np.argmax(predictions.predictions, axis=1)\n",
        "y_true = predictions.label_ids"
      ],
      "metadata": {
        "colab": {
          "base_uri": "https://localhost:8080/",
          "height": 17
        },
        "id": "knfHqroSB_Rn",
        "outputId": "0befed1d-4dbb-40e4-a7de-e1e3d3c891d6"
      },
      "execution_count": 48,
      "outputs": [
        {
          "output_type": "display_data",
          "data": {
            "text/plain": [
              "<IPython.core.display.HTML object>"
            ],
            "text/html": []
          },
          "metadata": {}
        }
      ]
    },
    {
      "cell_type": "code",
      "source": [
        "from sklearn.metrics import classification_report, confusion_matrix\n",
        "import seaborn as sns\n",
        "import matplotlib.pyplot as plt"
      ],
      "metadata": {
        "id": "Md-TXJ-lCF7Z"
      },
      "execution_count": 49,
      "outputs": []
    },
    {
      "cell_type": "code",
      "source": [
        "print(\"\\nDetailed Classification Report:\")\n",
        "print(classification_report(y_true, y_pred, target_names=list(label_map.values())))"
      ],
      "metadata": {
        "colab": {
          "base_uri": "https://localhost:8080/"
        },
        "id": "EoCREVY1CL48",
        "outputId": "48ef0d47-0f64-4517-88ae-741ebb933ae6"
      },
      "execution_count": 50,
      "outputs": [
        {
          "output_type": "stream",
          "name": "stdout",
          "text": [
            "\n",
            "Detailed Classification Report:\n",
            "              precision    recall  f1-score   support\n",
            "\n",
            "Non-Argument       0.84      0.80      0.82       529\n",
            "     Premise       0.74      0.55      0.63       391\n",
            "  Conclusion       0.42      0.77      0.55       157\n",
            "\n",
            "    accuracy                           0.70      1077\n",
            "   macro avg       0.67      0.71      0.66      1077\n",
            "weighted avg       0.74      0.70      0.71      1077\n",
            "\n"
          ]
        }
      ]
    },
    {
      "cell_type": "code",
      "source": [
        "# Confusion Matrix\n",
        "cm = confusion_matrix(y_true, y_pred)\n",
        "plt.figure(figsize=(8, 6))\n",
        "sns.heatmap(cm, annot=True, fmt='d', cmap='Blues',\n",
        "            xticklabels=list(label_map.values()),\n",
        "            yticklabels=list(label_map.values()))\n",
        "plt.title('Confusion Matrix')\n",
        "plt.ylabel('True Label')\n",
        "plt.xlabel('Predicted Label')\n",
        "plt.tight_layout()\n",
        "plt.savefig('confusion_matrix.png', dpi=300, bbox_inches='tight')\n",
        "plt.show()"
      ],
      "metadata": {
        "colab": {
          "base_uri": "https://localhost:8080/",
          "height": 607
        },
        "id": "yzwgbApoCO80",
        "outputId": "7a995d17-a53a-4c76-85e0-d471930515bb"
      },
      "execution_count": 51,
      "outputs": [
        {
          "output_type": "display_data",
          "data": {
            "text/plain": [
              "<Figure size 800x600 with 2 Axes>"
            ],
            "image/png": "[encoded data removed]"
          },
          "metadata": {}
        }
      ]
    },
    {
      "cell_type": "code",
      "source": [
        "# Function to test on new examples\n",
        "def predict_argument_type(text):\n",
        "    \"\"\"Predict argument type for new text\"\"\"\n",
        "    inputs = tokenizer(text, return_tensors=\"pt\", truncation=True, padding=True, max_length=256)\n",
        "\n",
        "    # Move inputs to the same device as the model\n",
        "    device = next(model.parameters()).device\n",
        "    inputs = {key: value.to(device) for key, value in inputs.items()}\n",
        "\n",
        "    model.eval()  # Set model to evaluation mode\n",
        "    with torch.no_grad():\n",
        "        outputs = model(**inputs)\n",
        "        predictions = torch.nn.functional.softmax(outputs.logits, dim=-1)\n",
        "        predicted_class = torch.argmax(predictions, dim=-1).item()\n",
        "        confidence = predictions[0][predicted_class].item()\n",
        "\n",
        "    return {\n",
        "        \"text\": text,\n",
        "        \"predicted_label\": label_map[predicted_class],\n",
        "        \"confidence\": confidence,\n",
        "        \"all_probabilities\": {\n",
        "            label_map[i]: prob.item()\n",
        "            for i, prob in enumerate(predictions[0])\n",
        "        }\n",
        "    }"
      ],
      "metadata": {
        "id": "Akw38IZ1CYoH"
      },
      "execution_count": 55,
      "outputs": []
    },
    {
      "cell_type": "code",
      "source": [
        "test_examples = [\n",
        "    \"The court finds that the defendant violated Article 8 of the Convention.\",\n",
        "    \"Therefore, the application should be dismissed as inadmissible.\",\n",
        "    \"The weather was particularly cold that winter morning.\"\n",
        "]\n",
        "\n",
        "print(\"\\n\" + \"=\"*50)\n",
        "print(\"TESTING ON NEW EXAMPLES\")\n",
        "print(\"=\"*50)\n",
        "\n",
        "for example in test_examples:\n",
        "    result = predict_argument_type(example)\n",
        "    print(f\"\\nText: {result['text']}\")\n",
        "    print(f\"Prediction: {result['predicted_label']} (confidence: {result['confidence']:.3f})\")\n",
        "    print(\"All probabilities:\")\n",
        "    for label, prob in result['all_probabilities'].items():\n",
        "        print(f\"  {label}: {prob:.3f}\")\n",
        "    print(\"-\" * 40)"
      ],
      "metadata": {
        "colab": {
          "base_uri": "https://localhost:8080/"
        },
        "id": "sCoJsgyWCbnu",
        "outputId": "89b73e88-9c2b-487c-d2c9-8a875251f8fd"
      },
      "execution_count": 56,
      "outputs": [
        {
          "output_type": "stream",
          "name": "stdout",
          "text": [
            "\n",
            "==================================================\n",
            "TESTING ON NEW EXAMPLES\n",
            "==================================================\n",
            "\n",
            "Text: The court finds that the defendant violated Article 8 of the Convention.\n",
            "Prediction: Conclusion (confidence: 0.623)\n",
            "All probabilities:\n",
            "  Non-Argument: 0.328\n",
            "  Premise: 0.049\n",
            "  Conclusion: 0.623\n",
            "----------------------------------------\n",
            "\n",
            "Text: Therefore, the application should be dismissed as inadmissible.\n",
            "Prediction: Conclusion (confidence: 0.873)\n",
            "All probabilities:\n",
            "  Non-Argument: 0.089\n",
            "  Premise: 0.038\n",
            "  Conclusion: 0.873\n",
            "----------------------------------------\n",
            "\n",
            "Text: The weather was particularly cold that winter morning.\n",
            "Prediction: Non-Argument (confidence: 0.944)\n",
            "All probabilities:\n",
            "  Non-Argument: 0.944\n",
            "  Premise: 0.036\n",
            "  Conclusion: 0.020\n",
            "----------------------------------------\n"
          ]
        }
      ]
    },
    {
      "cell_type": "code",
      "source": [
        "# Download the entire model folder\n",
        "from google.colab import files\n",
        "import shutil\n",
        "# Create a zip of the model folder\n",
        "shutil.make_archive(\"legal-bert-argument-classifier\", 'zip', \"./legal-bert-argument-classifier\")\n",
        "files.download(\"legal-bert-argument-classifier.zip\")"
      ],
      "metadata": {
        "colab": {
          "base_uri": "https://localhost:8080/",
          "height": 34
        },
        "id": "uJFlvyPqEUgF",
        "outputId": "7161cb1e-4178-4054-ab28-c62e3c9e3a0a"
      },
      "execution_count": 59,
      "outputs": [
        {
          "output_type": "display_data",
          "data": {
            "text/plain": [
              "<IPython.core.display.Javascript object>"
            ],
            "application/javascript": [
              "\n",
              "    async function download(id, filename, size) {\n",
              "      if (!google.colab.kernel.accessAllowed) {\n",
              "        return;\n",
              "      }\n",
              "      const div = document.createElement('div');\n",
              "      const label = document.createElement('label');\n",
              "      label.textContent = `Downloading \"${filename}\": `;\n",
              "      div.appendChild(label);\n",
              "      const progress = document.createElement('progress');\n",
              "      progress.max = size;\n",
              "      div.appendChild(progress);\n",
              "      document.body.appendChild(div);\n",
              "\n",
              "      const buffers = [];\n",
              "      let downloaded = 0;\n",
              "\n",
              "      const channel = await google.colab.kernel.comms.open(id);\n",
              "      // Send a message to notify the kernel that we're ready.\n",
              "      channel.send({})\n",
              "\n",
              "      for await (const message of channel.messages) {\n",
              "        // Send a message to notify the kernel that we're ready.\n",
              "        channel.send({})\n",
              "        if (message.buffers) {\n",
              "          for (const buffer of message.buffers) {\n",
              "            buffers.push(buffer);\n",
              "            downloaded += buffer.byteLength;\n",
              "            progress.value = downloaded;\n",
              "          }\n",
              "        }\n",
              "      }\n",
              "      const blob = new Blob(buffers, {type: 'application/binary'});\n",
              "      const a = document.createElement('a');\n",
              "      a.href = window.URL.createObjectURL(blob);\n",
              "      a.download = filename;\n",
              "      div.appendChild(a);\n",
              "      a.click();\n",
              "      div.remove();\n",
              "    }\n",
              "  "
            ]
          },
          "metadata": {}
        },
        {
          "output_type": "display_data",
          "data": {
            "text/plain": [
              "<IPython.core.display.Javascript object>"
            ],
            "application/javascript": [
              "download(\"download_35d1b915-8f55-4270-b0d6-153ec2d01b25\", \"legal-bert-argument-classifier.zip\", 2554565624)"
            ]
          },
          "metadata": {}
        }
      ]
    },
    {
      "cell_type": "code",
      "source": [
        "# Download the confusion matrix visualization\n",
        "files.download(\"confusion_matrix.png\")"
      ],
      "metadata": {
        "colab": {
          "base_uri": "https://localhost:8080/",
          "height": 17
        },
        "id": "P_FIgXlwDk9F",
        "outputId": "e574b8a9-20d1-4cef-dedc-0e1a20ccb06d"
      },
      "execution_count": 60,
      "outputs": [
        {
          "output_type": "display_data",
          "data": {
            "text/plain": [
              "<IPython.core.display.Javascript object>"
            ],
            "application/javascript": [
              "\n",
              "    async function download(id, filename, size) {\n",
              "      if (!google.colab.kernel.accessAllowed) {\n",
              "        return;\n",
              "      }\n",
              "      const div = document.createElement('div');\n",
              "      const label = document.createElement('label');\n",
              "      label.textContent = `Downloading \"${filename}\": `;\n",
              "      div.appendChild(label);\n",
              "      const progress = document.createElement('progress');\n",
              "      progress.max = size;\n",
              "      div.appendChild(progress);\n",
              "      document.body.appendChild(div);\n",
              "\n",
              "      const buffers = [];\n",
              "      let downloaded = 0;\n",
              "\n",
              "      const channel = await google.colab.kernel.comms.open(id);\n",
              "      // Send a message to notify the kernel that we're ready.\n",
              "      channel.send({})\n",
              "\n",
              "      for await (const message of channel.messages) {\n",
              "        // Send a message to notify the kernel that we're ready.\n",
              "        channel.send({})\n",
              "        if (message.buffers) {\n",
              "          for (const buffer of message.buffers) {\n",
              "            buffers.push(buffer);\n",
              "            downloaded += buffer.byteLength;\n",
              "            progress.value = downloaded;\n",
              "          }\n",
              "        }\n",
              "      }\n",
              "      const blob = new Blob(buffers, {type: 'application/binary'});\n",
              "      const a = document.createElement('a');\n",
              "      a.href = window.URL.createObjectURL(blob);\n",
              "      a.download = filename;\n",
              "      div.appendChild(a);\n",
              "      a.click();\n",
              "      div.remove();\n",
              "    }\n",
              "  "
            ]
          },
          "metadata": {}
        },
        {
          "output_type": "display_data",
          "data": {
            "text/plain": [
              "<IPython.core.display.Javascript object>"
            ],
            "application/javascript": [
              "download(\"download_119b60be-8861-4f37-8e2a-7fd339591e19\", \"confusion_matrix.png\", 112412)"
            ]
          },
          "metadata": {}
        }
      ]
    },
    {
      "cell_type": "code",
      "source": [
        "# Save the demo script to a file and download it\n",
        "demo_code = '''#!/usr/bin/env python3\n",
        "\"\"\"\n",
        "Argument Mining Classifier - Classroom Demo\n",
        "============================================\n",
        "This script demonstrates a trained BERT model that classifies legal text into:\n",
        "- Non-Argument (0): Regular text that doesn't make an argument\n",
        "- Premise (1): Supporting evidence or reasoning\n",
        "- Conclusion (2): Final decision or judgment\n",
        "\"\"\"\n",
        "\n",
        "import torch\n",
        "from transformers import AutoTokenizer, AutoModelForSequenceClassification\n",
        "import os\n",
        "\n",
        "class ArgumentClassifier:\n",
        "    def __init__(self, model_path=\"./legal-bert-argument-classifier\"):\n",
        "        \"\"\"Initialize the argument classifier\"\"\"\n",
        "        print(\"Loading trained model...\")\n",
        "\n",
        "        if not os.path.exists(model_path):\n",
        "            print(f\"❌ Model not found at {model_path}\")\n",
        "            print(\"Please ensure the model files are in the correct directory.\")\n",
        "            return\n",
        "\n",
        "        try:\n",
        "            self.tokenizer = AutoTokenizer.from_pretrained(model_path)\n",
        "            self.model = AutoModelForSequenceClassification.from_pretrained(model_path)\n",
        "            self.device = torch.device(\"cuda\" if torch.cuda.is_available() else \"cpu\")\n",
        "            self.model.to(self.device)\n",
        "            self.model.eval()\n",
        "\n",
        "            self.label_map = {0: \"Non-Argument\", 1: \"Premise\", 2: \"Conclusion\"}\n",
        "            print(f\"✅ Model loaded successfully on {self.device}\")\n",
        "\n",
        "        except Exception as e:\n",
        "            print(f\"❌ Error loading model: {e}\")\n",
        "\n",
        "    def predict(self, text):\n",
        "        \"\"\"Predict argument type for given text\"\"\"\n",
        "        if not hasattr(self, 'model'):\n",
        "            return None\n",
        "\n",
        "        inputs = self.tokenizer(\n",
        "            text,\n",
        "            return_tensors=\"pt\",\n",
        "            truncation=True,\n",
        "            padding=True,\n",
        "            max_length=256\n",
        "        )\n",
        "\n",
        "        inputs = {key: value.to(self.device) for key, value in inputs.items()}\n",
        "\n",
        "        with torch.no_grad():\n",
        "            outputs = self.model(**inputs)\n",
        "            probabilities = torch.nn.functional.softmax(outputs.logits, dim=-1)\n",
        "            predicted_class = torch.argmax(probabilities, dim=-1).item()\n",
        "            confidence = probabilities[0][predicted_class].item()\n",
        "\n",
        "        return {\n",
        "            \"text\": text,\n",
        "            \"prediction\": self.label_map[predicted_class],\n",
        "            \"confidence\": confidence,\n",
        "            \"probabilities\": {\n",
        "                self.label_map[i]: prob.item()\n",
        "                for i, prob in enumerate(probabilities[0])\n",
        "            }\n",
        "        }\n",
        "\n",
        "    def demo_examples(self):\n",
        "        \"\"\"Run demo with predefined examples\"\"\"\n",
        "        examples = [\n",
        "            \"The Court finds that there has been a violation of Article 8 of the Convention.\",\n",
        "            \"Therefore, the application must be dismissed as inadmissible.\",\n",
        "            \"The applicant was detained without access to a lawyer for 48 hours.\",\n",
        "            \"Article 6 of the Convention guarantees the right to a fair trial.\",\n",
        "            \"The hearing was scheduled for Tuesday morning at 10 AM.\",\n",
        "            \"It was raining heavily on the day of the incident.\"\n",
        "        ]\n",
        "\n",
        "        print(\"\\\\n\" + \"=\"*60)\n",
        "        print(\"🎯 ARGUMENT MINING CLASSIFIER DEMO\")\n",
        "        print(\"=\"*60)\n",
        "\n",
        "        for i, example in enumerate(examples, 1):\n",
        "            print(f\"\\\\n📝 Example {i}:\")\n",
        "            print(f\"Text: \\\\\"{example}\\\\\"\")\n",
        "\n",
        "            result = self.predict(example)\n",
        "            if result:\n",
        "                colors = {\"Non-Argument\": \"🔵\", \"Premise\": \"🟡\", \"Conclusion\": \"🟢\"}\n",
        "                print(f\"Prediction: {colors[result['prediction']]} {result['prediction']}\")\n",
        "                print(f\"Confidence: {result['confidence']:.3f}\")\n",
        "\n",
        "                print(\"Probabilities:\")\n",
        "                for label, prob in result['probabilities'].items():\n",
        "                    bar_length = int(prob * 20)\n",
        "                    bar = \"█\" * bar_length + \"░\" * (20 - bar_length)\n",
        "                    print(f\"  {label:12}: {bar} {prob:.3f}\")\n",
        "\n",
        "            print(\"-\" * 50)\n",
        "\n",
        "def main():\n",
        "    print(\"🏛️ Legal Argument Mining with BERT\")\n",
        "    classifier = ArgumentClassifier()\n",
        "\n",
        "    if hasattr(classifier, 'model'):\n",
        "        classifier.demo_examples()\n",
        "\n",
        "        # Interactive mode\n",
        "        print(\"\\\\n🔄 Interactive mode - Enter text to classify ('quit' to exit):\")\n",
        "        while True:\n",
        "            try:\n",
        "                user_input = input(\"\\\\n📝 Enter text: \").strip()\n",
        "                if user_input.lower() in ['quit', 'exit', 'q']:\n",
        "                    break\n",
        "\n",
        "                if user_input:\n",
        "                    result = classifier.predict(user_input)\n",
        "                    if result:\n",
        "                        print(f\"🎯 Prediction: {result['prediction']}\")\n",
        "                        print(f\"📊 Confidence: {result['confidence']:.3f}\")\n",
        "            except KeyboardInterrupt:\n",
        "                break\n",
        "\n",
        "if __name__ == \"__main__\":\n",
        "    main()\n",
        "'''\n",
        "\n",
        "with open(\"argument_classifier_demo.py\", \"w\") as f:\n",
        "    f.write(demo_code)\n",
        "\n",
        "files.download(\"argument_classifier_demo.py\")"
      ],
      "metadata": {
        "colab": {
          "base_uri": "https://localhost:8080/",
          "height": 17
        },
        "id": "kQ8mT9d7Dr_W",
        "outputId": "10222d4c-d359-4441-d04a-66982dd8eaa9"
      },
      "execution_count": 61,
      "outputs": [
        {
          "output_type": "display_data",
          "data": {
            "text/plain": [
              "<IPython.core.display.Javascript object>"
            ],
            "application/javascript": [
              "\n",
              "    async function download(id, filename, size) {\n",
              "      if (!google.colab.kernel.accessAllowed) {\n",
              "        return;\n",
              "      }\n",
              "      const div = document.createElement('div');\n",
              "      const label = document.createElement('label');\n",
              "      label.textContent = `Downloading \"${filename}\": `;\n",
              "      div.appendChild(label);\n",
              "      const progress = document.createElement('progress');\n",
              "      progress.max = size;\n",
              "      div.appendChild(progress);\n",
              "      document.body.appendChild(div);\n",
              "\n",
              "      const buffers = [];\n",
              "      let downloaded = 0;\n",
              "\n",
              "      const channel = await google.colab.kernel.comms.open(id);\n",
              "      // Send a message to notify the kernel that we're ready.\n",
              "      channel.send({})\n",
              "\n",
              "      for await (const message of channel.messages) {\n",
              "        // Send a message to notify the kernel that we're ready.\n",
              "        channel.send({})\n",
              "        if (message.buffers) {\n",
              "          for (const buffer of message.buffers) {\n",
              "            buffers.push(buffer);\n",
              "            downloaded += buffer.byteLength;\n",
              "            progress.value = downloaded;\n",
              "          }\n",
              "        }\n",
              "      }\n",
              "      const blob = new Blob(buffers, {type: 'application/binary'});\n",
              "      const a = document.createElement('a');\n",
              "      a.href = window.URL.createObjectURL(blob);\n",
              "      a.download = filename;\n",
              "      div.appendChild(a);\n",
              "      a.click();\n",
              "      div.remove();\n",
              "    }\n",
              "  "
            ]
          },
          "metadata": {}
        },
        {
          "output_type": "display_data",
          "data": {
            "text/plain": [
              "<IPython.core.display.Javascript object>"
            ],
            "application/javascript": [
              "download(\"download_e26632cf-0ab8-4d23-8212-0bc88bceaa1d\", \"argument_classifier_demo.py\", 4893)"
            ]
          },
          "metadata": {}
        }
      ]
    },
    {
      "cell_type": "code",
      "source": [
        "# Create requirements.txt\n",
        "requirements = \"\"\"torch>=1.9.0\n",
        "transformers>=4.21.0\n",
        "numpy>=1.21.0\n",
        "scikit-learn>=1.0.0\n",
        "matplotlib>=3.5.0\n",
        "seaborn>=0.11.0\n",
        "\"\"\"\n",
        "\n",
        "with open(\"requirements.txt\", \"w\") as f:\n",
        "    f.write(requirements)\n",
        "\n",
        "files.download(\"requirements.txt\")"
      ],
      "metadata": {
        "colab": {
          "base_uri": "https://localhost:8080/",
          "height": 17
        },
        "id": "FlUXrwEJDwBd",
        "outputId": "292f4012-eb83-45e6-8cdf-c033d5778f43"
      },
      "execution_count": 62,
      "outputs": [
        {
          "output_type": "display_data",
          "data": {
            "text/plain": [
              "<IPython.core.display.Javascript object>"
            ],
            "application/javascript": [
              "\n",
              "    async function download(id, filename, size) {\n",
              "      if (!google.colab.kernel.accessAllowed) {\n",
              "        return;\n",
              "      }\n",
              "      const div = document.createElement('div');\n",
              "      const label = document.createElement('label');\n",
              "      label.textContent = `Downloading \"${filename}\": `;\n",
              "      div.appendChild(label);\n",
              "      const progress = document.createElement('progress');\n",
              "      progress.max = size;\n",
              "      div.appendChild(progress);\n",
              "      document.body.appendChild(div);\n",
              "\n",
              "      const buffers = [];\n",
              "      let downloaded = 0;\n",
              "\n",
              "      const channel = await google.colab.kernel.comms.open(id);\n",
              "      // Send a message to notify the kernel that we're ready.\n",
              "      channel.send({})\n",
              "\n",
              "      for await (const message of channel.messages) {\n",
              "        // Send a message to notify the kernel that we're ready.\n",
              "        channel.send({})\n",
              "        if (message.buffers) {\n",
              "          for (const buffer of message.buffers) {\n",
              "            buffers.push(buffer);\n",
              "            downloaded += buffer.byteLength;\n",
              "            progress.value = downloaded;\n",
              "          }\n",
              "        }\n",
              "      }\n",
              "      const blob = new Blob(buffers, {type: 'application/binary'});\n",
              "      const a = document.createElement('a');\n",
              "      a.href = window.URL.createObjectURL(blob);\n",
              "      a.download = filename;\n",
              "      div.appendChild(a);\n",
              "      a.click();\n",
              "      div.remove();\n",
              "    }\n",
              "  "
            ]
          },
          "metadata": {}
        },
        {
          "output_type": "display_data",
          "data": {
            "text/plain": [
              "<IPython.core.display.Javascript object>"
            ],
            "application/javascript": [
              "download(\"download_22f89d14-403d-43ed-87be-d8b04d33d396\", \"requirements.txt\", 102)"
            ]
          },
          "metadata": {}
        }
      ]
    },
    {
      "cell_type": "code",
      "source": [],
      "metadata": {
        "id": "6AJgkDsIFRfg"
      },
      "execution_count": null,
      "outputs": []
    }
  ]
}